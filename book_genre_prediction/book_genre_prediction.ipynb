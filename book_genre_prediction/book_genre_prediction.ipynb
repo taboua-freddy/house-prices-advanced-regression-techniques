{
 "cells": [
  {
   "cell_type": "code",
   "execution_count": 1,
   "metadata": {},
   "outputs": [],
   "source": [
    "import tensorflow as tf\n",
    "from tensorflow import keras\n",
    "from keras import layers, utils, losses, callbacks\n",
    "import tensorflow_hub as hub\n",
    "import tensorboard\n",
    "import tensorflow_docs as tfds \n",
    "import tensorflow_docs.modeling\n",
    "import tensorflow_docs.plots\n",
    "\n",
    "import matplotlib.pyplot as plt\n",
    "\n",
    "import pandas as pd\n",
    "import string, re\n",
    "import spacy\n",
    "from spacy.tokens import Token\n",
    "from spacy.lang.en.stop_words import STOP_WORDS\n",
    "import itertools\n",
    "from autocorrect import Speller\n",
    "\n",
    "from sklearn.preprocessing import LabelEncoder\n",
    "from sklearn.utils import shuffle\n",
    "\n",
    "from math import ceil\n",
    "\n"
   ]
  },
  {
   "cell_type": "code",
   "execution_count": 2,
   "metadata": {},
   "outputs": [],
   "source": [
    "df = pd.read_csv(\"data.csv\").drop(\"index\",axis=1)"
   ]
  },
  {
   "cell_type": "markdown",
   "metadata": {},
   "source": [
    "# Data Exploration"
   ]
  },
  {
   "cell_type": "code",
   "execution_count": 3,
   "metadata": {},
   "outputs": [
    {
     "data": {
      "text/html": [
       "<div>\n",
       "<style scoped>\n",
       "    .dataframe tbody tr th:only-of-type {\n",
       "        vertical-align: middle;\n",
       "    }\n",
       "\n",
       "    .dataframe tbody tr th {\n",
       "        vertical-align: top;\n",
       "    }\n",
       "\n",
       "    .dataframe thead th {\n",
       "        text-align: right;\n",
       "    }\n",
       "</style>\n",
       "<table border=\"1\" class=\"dataframe\">\n",
       "  <thead>\n",
       "    <tr style=\"text-align: right;\">\n",
       "      <th></th>\n",
       "      <th>title</th>\n",
       "      <th>genre</th>\n",
       "      <th>summary</th>\n",
       "    </tr>\n",
       "  </thead>\n",
       "  <tbody>\n",
       "    <tr>\n",
       "      <th>0</th>\n",
       "      <td>Drowned Wednesday</td>\n",
       "      <td>fantasy</td>\n",
       "      <td>Drowned Wednesday is the first Trustee among ...</td>\n",
       "    </tr>\n",
       "    <tr>\n",
       "      <th>1</th>\n",
       "      <td>The Lost Hero</td>\n",
       "      <td>fantasy</td>\n",
       "      <td>As the book opens, Jason awakens on a school ...</td>\n",
       "    </tr>\n",
       "    <tr>\n",
       "      <th>2</th>\n",
       "      <td>The Eyes of the Overworld</td>\n",
       "      <td>fantasy</td>\n",
       "      <td>Cugel is easily persuaded by the merchant Fia...</td>\n",
       "    </tr>\n",
       "    <tr>\n",
       "      <th>3</th>\n",
       "      <td>Magic's Promise</td>\n",
       "      <td>fantasy</td>\n",
       "      <td>The book opens with Herald-Mage Vanyel return...</td>\n",
       "    </tr>\n",
       "    <tr>\n",
       "      <th>4</th>\n",
       "      <td>Taran Wanderer</td>\n",
       "      <td>fantasy</td>\n",
       "      <td>Taran and Gurgi have returned to Caer Dallben...</td>\n",
       "    </tr>\n",
       "  </tbody>\n",
       "</table>\n",
       "</div>"
      ],
      "text/plain": [
       "                       title    genre  \\\n",
       "0          Drowned Wednesday  fantasy   \n",
       "1              The Lost Hero  fantasy   \n",
       "2  The Eyes of the Overworld  fantasy   \n",
       "3            Magic's Promise  fantasy   \n",
       "4             Taran Wanderer  fantasy   \n",
       "\n",
       "                                             summary  \n",
       "0   Drowned Wednesday is the first Trustee among ...  \n",
       "1   As the book opens, Jason awakens on a school ...  \n",
       "2   Cugel is easily persuaded by the merchant Fia...  \n",
       "3   The book opens with Herald-Mage Vanyel return...  \n",
       "4   Taran and Gurgi have returned to Caer Dallben...  "
      ]
     },
     "execution_count": 3,
     "metadata": {},
     "output_type": "execute_result"
    }
   ],
   "source": [
    "df.head()"
   ]
  },
  {
   "cell_type": "code",
   "execution_count": 4,
   "metadata": {},
   "outputs": [
    {
     "name": "stdout",
     "output_type": "stream",
     "text": [
      "<class 'pandas.core.frame.DataFrame'>\n",
      "RangeIndex: 4657 entries, 0 to 4656\n",
      "Data columns (total 3 columns):\n",
      " #   Column   Non-Null Count  Dtype \n",
      "---  ------   --------------  ----- \n",
      " 0   title    4657 non-null   object\n",
      " 1   genre    4657 non-null   object\n",
      " 2   summary  4657 non-null   object\n",
      "dtypes: object(3)\n",
      "memory usage: 109.3+ KB\n"
     ]
    }
   ],
   "source": [
    "df.info()"
   ]
  },
  {
   "cell_type": "code",
   "execution_count": 5,
   "metadata": {},
   "outputs": [
    {
     "data": {
      "text/plain": [
       "thriller      21.966932\n",
       "fantasy       18.810393\n",
       "science       13.893064\n",
       "history       12.883831\n",
       "horror        12.883831\n",
       "crime         10.736526\n",
       "romance        2.383509\n",
       "psychology     2.147305\n",
       "sports         2.147305\n",
       "travel         2.147305\n",
       "Name: genre, dtype: float64"
      ]
     },
     "execution_count": 5,
     "metadata": {},
     "output_type": "execute_result"
    }
   ],
   "source": [
    "df.genre.value_counts(True)*100"
   ]
  },
  {
   "cell_type": "code",
   "execution_count": 6,
   "metadata": {},
   "outputs": [
    {
     "data": {
      "text/plain": [
       "' Drowned Wednesday is the first Trustee among the Morrow Days who is on Arthur\\'s side and wishes the Will to be fulfilled. She appears as a leviathan/whale and suffers from Gluttony. The book begins when Leaf is visiting Arthur and they are discussing the invitation that Drowned Wednesday sent him. Arthur had been admitted to hospital because of the damage done to his leg when he attempted to enter Tuesday\\'s Treasure Tower. Suddenly, the hospital room becomes flooded with water as the two are transported to the Border Sea of the House. Leaf is snatched away by a large ship with green sails, known as the Flying Mantis, while Arthur remains in his bed. When the Medallion given him by the immortal called the Mariner apparently fails to summon help, Arthur is without hope. Eventually, a buoy marking the pirate Elishar Feverfew\\'s treasure floats toward him. As soon as Arthur opens it, his hand is marked with a bloody red colour. Arthur now has the Red Hand, by which Feverfew marks whoever has found his treasure, so that he can identify them later. Not long after, a scavenging ship called the Moth rescues Arthur. On board, Arthur (going by the name of Arth) is introduced to Sunscorch, the First Mate, and to Captain Catapillow. Their journey brings them through the Line of Storms and into the Border Sea, where they are later pursued by Feverfew\\'s ghostly ship, the Shiver. The damage inflicted on the Moth is serious; therefore Sunscorch commands an Upper House Sorcerer, Dr. Scamandros, to open a transfer portal to elsewhere in the Secondary Realms. Scamandros claims that Arthur is carrying something that interfered with his magic, and tells Sunscorch to throw him overboard. As a last resort, Arthur shows them the Mariner\\'s Medallion, which stops Scamandros saying that they must get rid of Arthur. After going through the transfer portal (with Arthur\\'s help), the ship is grounded on a beach. When Arthur wished to learn what happened to Leaf, Dr. Scamandros applies his sorcery to make it possible. She is revealed to be aboard the ship Flying Mantis. Arthur joins Catapillow for supper, later to reveal his identity. At first, Propaganda issued by Dame Primus (Arthur\\'s Steward) makes them skeptical of this, but they eventually become convinced. A few days later, Wednesday\\'s Dawn takes Arthur to meet Wednesday for her \\'luncheon of seventeen removes\\'. As they approach, Wednesday shrinks into her human form to meet Arthur. During their lunch, Wednesday tells Arthur that after Part 3 of the Will has been released, she will surrender the Third Key to Arthur. Arthur is then taken by Wednesday\\'s Dawn to a place called the triangle in search of his friend Leaf. He learns that Leaf has been forced to work on the Mantis, but is otherwise intact. Arthur later makes a deal with the Raised Rats, a group of anthropomorphic rats brought to the House by the Piper, to take him to Feverfew\\'s hideout, which they believe is inside a miniature world located within Drowned Wednesday\\'s stomach. On the Raised Rats\\' ship, Arthur opens a gift from Dr. Scamandros, which proves to be a golden transfer watch. With this, he communicates with and rescues Dr. Scamandros. He then uses a scrying mirror Dr. Scamandros gave him to watch Leaf. A rat watches him during the scry, and later saves him from a battle with Feverfew. Later, the Rats bring Arthur onto their submarine, where he meets with Suzy Turquiose Blue. In contrast to Suzy\\'s former cockney attitude, she has assumed a more \"ladylike and proper\" demeanor on the orders of Dame Primus. Only when they are no longer on the Border Sea, but under it, does she resume her customary ways of speech and dress. They are, with navigational difficulty, able to enter the stomach of Lady Wednesday and the worldlet therein. There, Arthur and Suzy, disguised as rats, find escaped slaves, professed followers of the Carp. These exiles take them to the Carp, who is the third part of the Will. They are halted in their attempt to escape by Feverfew, who proposes that each of them will try to kill the other by means of one strike only. Arthur fails his first try, then dodges Feverfew and severs his head. Leaf, who is Feverfew\\'s prisoner, then kicks it into a mud puddle containing Nothing, which consumes it. Upon his death, the worldlet begins to collapse. Via the Moth, Arthur and all his friends (with the exception of the reluctant Catapillow) are able to escape. Lady Wednesday recovers from her gluttony, then dies as a result of being poisoned by the worldlet, which had opened a void to Nothing. Arthur, now Duke of the Border Sea, appoints Sunscorch as his Noon and Scamandros as his Dusk. fr:Mercredi sous les flots th:พุธเพชฌฆาต'"
      ]
     },
     "execution_count": 6,
     "metadata": {},
     "output_type": "execute_result"
    }
   ],
   "source": [
    "df.summary[0]"
   ]
  },
  {
   "cell_type": "markdown",
   "metadata": {},
   "source": [
    "# Data Cleaning"
   ]
  },
  {
   "cell_type": "code",
   "execution_count": 7,
   "metadata": {},
   "outputs": [],
   "source": [
    "stop_w = STOP_WORDS\n",
    "chat_words_map_dict = {\n",
    "    \"AFAIK\": \"As Far As I Know\",\n",
    "    \"AFK\": \"Away From Keyboard\",\n",
    "    \"ASAP\": \"As Soon As Possible\",\n",
    "    \"ATK\": \"At The Keyboard\",\n",
    "    \"ATM\": \"At The Moment\",\n",
    "    \"A3\": \"Anytime, Anywhere, Anyplace\",\n",
    "}\n",
    "\n",
    "class Text_cleaner :\n",
    "    def __init__(self) -> None:\n",
    "        self.nlp = spacy.load(\"en_core_web_sm\",) #exclude=[ \"parser\", \"attribute_ruler\", \"ner\"])#\"lemmatizer\" \"tagger\"\n",
    "\n",
    "    def remove_html_tags(self, text:str) -> str:\n",
    "        return re.sub('\"', \"\", text)\n",
    "\n",
    "    def remove_url_email_num_stop_chat(self, text:str) -> str:\n",
    "        new_text = []\n",
    "        #text = tf.compat.as_str_any(text)\n",
    "        doc = self.nlp(text)\n",
    "        for token in doc:\n",
    "            to_remove = False\n",
    "            # remove_url_email_num_stop\n",
    "            if any([token.like_url, token.like_email, token.like_num, token.is_stop]):\n",
    "                to_remove = True\n",
    "            #elif token.text.lower() in stop_w:\n",
    "            #    to_remove = True\n",
    "\n",
    "            if not to_remove:\n",
    "                # replace_chat_words\n",
    "                if token.text.upper() in chat_words_map_dict.keys():\n",
    "                    new_text.append(\n",
    "                            chat_words_map_dict[token.text.upper()])\n",
    "                # ajust punctions\n",
    "                elif token.is_punct :\n",
    "                    if len(new_text) > 0 and string.punctuation.__contains__(new_text[-1][-1]):\n",
    "                        continue\n",
    "                    if not any([token.is_bracket,token.is_quote,]) and len(new_text) > 0:\n",
    "                        new_text[-1] = new_text[-1]+token.text\n",
    "                    else:\n",
    "                        new_text.append(token.lemma_)\n",
    "                else:\n",
    "                    new_text.append(token.lemma_)\n",
    "\n",
    "        return \" \".join(new_text)\n",
    "\n",
    "    def lemma(self, text:str)->str:\n",
    "        new_text = []\n",
    "        doc = self.nlp(text)\n",
    "        for token in doc:\n",
    "            if token.is_punct:\n",
    "                continue\n",
    "            new_text.append(token.lemma_)\n",
    "\n",
    "        return \" \".join(new_text)\n",
    "\n",
    "    def spelling_check(self, text:str) -> str:\n",
    "        text = ''.join(''.join(s)[:2] for _, s in itertools.groupby(text))\n",
    "        spell = Speller(lang='en')\n",
    "        text = spell(text)\n",
    "        return text\n",
    "\n",
    "\n",
    "    def perform_cleaning(self, text:str, lower:bool=True, spelling_check:bool=False) -> str:\n",
    "        if spelling_check:\n",
    "            text = self.spelling_check(text)\n",
    "        text = self.remove_html_tags(text)\n",
    "        text = self.remove_url_email_num_stop_chat(text)\n",
    "        text = self.lemma(text)\n",
    "\n",
    "        if lower:\n",
    "            return text.lower()\n",
    "            \n",
    "        return text\n",
    "    \n"
   ]
  },
  {
   "cell_type": "code",
   "execution_count": 8,
   "metadata": {},
   "outputs": [
    {
     "data": {
      "text/plain": [
       "'   drown wednesday trustee morrow days arthur wish fulfil appear leviathan/ whale suffer gluttony book begin leaf visit arthur discuss invitation drown wednesday send arthur admit hospital damage leg attempt enter tuesday treasure tower suddenly hospital room flood water transport border sea house leaf snatch away large ship green sail know flying mantis arthur remain bed medallion give immortal call mariner apparently fail summon help arthur hope eventually buoy mark pirate elishar feverfew treasure float soon arthur open hand mark bloody red colour arthur red hand feverfew mark find treasure identify later long scavenge ship call moth rescues arthur board arthur go arth introduce sunscorch mate captain catapillow journey bring line storms border sea later pursue feverfew ghostly ship shiver damage inflict moth sunscorch command upper house sorcerer dr. scamandros open transfer portal secondary realms scamandro claim arthur carry interfere magic tell sunscorch throw overboard resort arthur show mariner medallion stop scamandros say rid arthur go transfer portal arthur help ship ground beach arthur wish learn happen leaf dr. scamandros apply sorcery possible reveal aboard ship flying mantis arthur join catapillow supper later reveal identity propaganda issue dame primus arthur steward make skeptical eventually convince day later wednesday dawn take arthur meet wednesday luncheon remove approach wednesday shrink human form meet arthur lunch wednesday tell arthur release surrender key arthur arthur take wednesday dawn place call triangle search friend leaf learn leaf force work mantis intact arthur later make deal raise rat group anthropomorphic rat bring house piper feverfew hideout believe inside miniature world locate drown wednesday stomach raise rat ship arthur open gift dr. scamandros prove golden transfer watch communicate rescue dr. scamandros use scry mirror dr. scamandros give watch leaf rat watch scry later save battle feverfew later rat bring arthur submarine meet suzy turquiose blue contrast suzy cockney attitude assume ladylike proper demeanor order dame primus long border sea resume customary way speech dress navigational difficulty able enter stomach lady wednesday worldlet arthur suzy disguise rat find escape slave profess follower carp exile carp halt attempt escape feverfew propose try kill mean strike arthur fail try dodge feverfew sever head leaf feverfew prisoner kick mud puddle contain consume death worldlet begin collapse moth arthur friend exception reluctant catapillow able escape lady wednesday recover gluttony die result poison worldlet open void arthur duke border sea appoint sunscorch noon scamandros dusk fr mercredi sous le flot th:พุธเพชฌฆาต'"
      ]
     },
     "execution_count": 8,
     "metadata": {},
     "output_type": "execute_result"
    }
   ],
   "source": [
    "Text_cleaner().perform_cleaning(df.summary[0])"
   ]
  },
  {
   "cell_type": "code",
   "execution_count": 9,
   "metadata": {},
   "outputs": [],
   "source": [
    "cleaner = Text_cleaner()"
   ]
  },
  {
   "cell_type": "code",
   "execution_count": 10,
   "metadata": {},
   "outputs": [
    {
     "data": {
      "text/html": [
       "<div>\n",
       "<style scoped>\n",
       "    .dataframe tbody tr th:only-of-type {\n",
       "        vertical-align: middle;\n",
       "    }\n",
       "\n",
       "    .dataframe tbody tr th {\n",
       "        vertical-align: top;\n",
       "    }\n",
       "\n",
       "    .dataframe thead th {\n",
       "        text-align: right;\n",
       "    }\n",
       "</style>\n",
       "<table border=\"1\" class=\"dataframe\">\n",
       "  <thead>\n",
       "    <tr style=\"text-align: right;\">\n",
       "      <th></th>\n",
       "      <th>title</th>\n",
       "      <th>genre</th>\n",
       "      <th>summary</th>\n",
       "      <th>summary_cleaned</th>\n",
       "    </tr>\n",
       "  </thead>\n",
       "  <tbody>\n",
       "    <tr>\n",
       "      <th>0</th>\n",
       "      <td>Drowned Wednesday</td>\n",
       "      <td>fantasy</td>\n",
       "      <td>Drowned Wednesday is the first Trustee among ...</td>\n",
       "      <td>drown wednesday trustee morrow days arthur ...</td>\n",
       "    </tr>\n",
       "    <tr>\n",
       "      <th>1</th>\n",
       "      <td>The Lost Hero</td>\n",
       "      <td>fantasy</td>\n",
       "      <td>As the book opens, Jason awakens on a school ...</td>\n",
       "      <td>book open jason awaken school bus unable re...</td>\n",
       "    </tr>\n",
       "    <tr>\n",
       "      <th>2</th>\n",
       "      <td>The Eyes of the Overworld</td>\n",
       "      <td>fantasy</td>\n",
       "      <td>Cugel is easily persuaded by the merchant Fia...</td>\n",
       "      <td>cugel easily persuade merchant fianosther a...</td>\n",
       "    </tr>\n",
       "    <tr>\n",
       "      <th>3</th>\n",
       "      <td>Magic's Promise</td>\n",
       "      <td>fantasy</td>\n",
       "      <td>The book opens with Herald-Mage Vanyel return...</td>\n",
       "      <td>book open herald- mage vanyel return countr...</td>\n",
       "    </tr>\n",
       "    <tr>\n",
       "      <th>4</th>\n",
       "      <td>Taran Wanderer</td>\n",
       "      <td>fantasy</td>\n",
       "      <td>Taran and Gurgi have returned to Caer Dallben...</td>\n",
       "      <td>taran gurgi return caer dallben follow even...</td>\n",
       "    </tr>\n",
       "  </tbody>\n",
       "</table>\n",
       "</div>"
      ],
      "text/plain": [
       "                       title    genre  \\\n",
       "0          Drowned Wednesday  fantasy   \n",
       "1              The Lost Hero  fantasy   \n",
       "2  The Eyes of the Overworld  fantasy   \n",
       "3            Magic's Promise  fantasy   \n",
       "4             Taran Wanderer  fantasy   \n",
       "\n",
       "                                             summary  \\\n",
       "0   Drowned Wednesday is the first Trustee among ...   \n",
       "1   As the book opens, Jason awakens on a school ...   \n",
       "2   Cugel is easily persuaded by the merchant Fia...   \n",
       "3   The book opens with Herald-Mage Vanyel return...   \n",
       "4   Taran and Gurgi have returned to Caer Dallben...   \n",
       "\n",
       "                                     summary_cleaned  \n",
       "0     drown wednesday trustee morrow days arthur ...  \n",
       "1     book open jason awaken school bus unable re...  \n",
       "2     cugel easily persuade merchant fianosther a...  \n",
       "3     book open herald- mage vanyel return countr...  \n",
       "4     taran gurgi return caer dallben follow even...  "
      ]
     },
     "execution_count": 10,
     "metadata": {},
     "output_type": "execute_result"
    }
   ],
   "source": [
    "df[\"summary_cleaned\"] = df.summary.apply(cleaner.perform_cleaning)\n",
    "df.head(5)\n"
   ]
  },
  {
   "cell_type": "code",
   "execution_count": 11,
   "metadata": {},
   "outputs": [
    {
     "data": {
      "text/plain": [
       "genre\n",
       "crime         [The Broken Shore, At Bertram's Hotel, Leviath...\n",
       "fantasy       [Drowned Wednesday, The Lost Hero, The Eyes of...\n",
       "history       [Smuggler's Moon, An Experiment In Treason, Wa...\n",
       "horror        [The Strange Case of Dr Jekyll and Mr Hyde, Th...\n",
       "psychology    [Thinking, Fast and Slow, Man's Search for Mea...\n",
       "romance       [Pride and Prejudice, The Fault in Our Stars, ...\n",
       "science       [Starcross, Glasshouse, Rocheworld, Master of ...\n",
       "sports        [Moneyball: The Art of Winning an Unfair Game,...\n",
       "thriller      [Violets are Blue, A Prisoner of Birth, Step o...\n",
       "travel        [A Walk in the Woods: Rediscovering America on...\n",
       "Name: title, dtype: object"
      ]
     },
     "execution_count": 11,
     "metadata": {},
     "output_type": "execute_result"
    }
   ],
   "source": [
    "df.groupby(\"genre\")[\"title\"].apply(list)\n"
   ]
  },
  {
   "cell_type": "markdown",
   "metadata": {},
   "source": [
    "# Data Preparation"
   ]
  },
  {
   "cell_type": "code",
   "execution_count": 12,
   "metadata": {},
   "outputs": [],
   "source": [
    "encoder = LabelEncoder()\n",
    "df[\"genre_encoded\"] = encoder.fit_transform(df.genre)\n"
   ]
  },
  {
   "cell_type": "code",
   "execution_count": 13,
   "metadata": {},
   "outputs": [],
   "source": [
    "max_features = 10000\n",
    "sequence_length = 1000\n",
    "\n",
    "vectorize_layer = layers.TextVectorization(\n",
    "    #standardize=cleaner.perform_cleaning,\n",
    "    max_tokens=max_features,\n",
    "    output_mode=\"int\",\n",
    "    output_sequence_length=sequence_length\n",
    ")\n",
    "\n",
    "\n",
    "def vectorize_text(text, label):\n",
    "  #text = tf.expand_dims(text, -1)\n",
    "  #label = tf.expand_dims(label, -1)\n",
    "  return vectorize_layer(text), label\n"
   ]
  },
  {
   "cell_type": "code",
   "execution_count": 14,
   "metadata": {},
   "outputs": [],
   "source": [
    "dataset = tf.data.Dataset.from_tensor_slices(\n",
    "    (df.summary_cleaned, df.genre_encoded)\n",
    ")\n",
    "dataset = dataset.shuffle(len(dataset), 100)"
   ]
  },
  {
   "cell_type": "code",
   "execution_count": 15,
   "metadata": {},
   "outputs": [],
   "source": [
    "n_train = ceil(.8*len(dataset))\n",
    "raw_train_ds = dataset.take(n_train)\n",
    "raw_val_ds = dataset.skip(n_train)\n"
   ]
  },
  {
   "cell_type": "code",
   "execution_count": 16,
   "metadata": {},
   "outputs": [],
   "source": [
    "train_text = raw_train_ds.map(lambda x, y: x)\n",
    "vectorize_layer.adapt(train_text)\n"
   ]
  },
  {
   "cell_type": "code",
   "execution_count": 17,
   "metadata": {},
   "outputs": [],
   "source": [
    "train_ds = raw_train_ds.map(vectorize_text)\n",
    "val_ds = raw_val_ds.map(vectorize_text)"
   ]
  },
  {
   "cell_type": "code",
   "execution_count": 18,
   "metadata": {},
   "outputs": [],
   "source": [
    "AUTOTUNE = tf.data.AUTOTUNE\n",
    "batch_size = 64\n",
    "\n",
    "train_ds = train_ds.cache().prefetch(\n",
    "    buffer_size=AUTOTUNE).batch(batch_size)\n",
    "val_ds = val_ds.cache().prefetch(buffer_size=AUTOTUNE).batch(batch_size)\n"
   ]
  },
  {
   "cell_type": "markdown",
   "metadata": {},
   "source": [
    "# Training"
   ]
  },
  {
   "cell_type": "code",
   "execution_count": 19,
   "metadata": {},
   "outputs": [],
   "source": [
    "%load_ext tensorboard \n"
   ]
  },
  {
   "cell_type": "code",
   "execution_count": 20,
   "metadata": {},
   "outputs": [
    {
     "data": {
      "text/plain": [
       "Reusing TensorBoard on port 6006 (pid 11384), started 12:52:59 ago. (Use '!kill 11384' to kill it.)"
      ]
     },
     "metadata": {},
     "output_type": "display_data"
    },
    {
     "data": {
      "text/html": [
       "\n",
       "      <iframe id=\"tensorboard-frame-6a0b2b6610bd99be\" width=\"100%\" height=\"800\" frameborder=\"0\">\n",
       "      </iframe>\n",
       "      <script>\n",
       "        (function() {\n",
       "          const frame = document.getElementById(\"tensorboard-frame-6a0b2b6610bd99be\");\n",
       "          const url = new URL(\"http://localhost\");\n",
       "          const port = 6006;\n",
       "          if (port) {\n",
       "            url.port = port;\n",
       "          }\n",
       "          frame.src = url;\n",
       "        })();\n",
       "      </script>\n",
       "    "
      ],
      "text/plain": [
       "<IPython.core.display.HTML object>"
      ]
     },
     "metadata": {},
     "output_type": "display_data"
    }
   ],
   "source": [
    "logs_dir = \"logs\"\n",
    "%tensorboard --logdir logs_dir\n"
   ]
  },
  {
   "cell_type": "markdown",
   "metadata": {},
   "source": [
    "# Simple model"
   ]
  },
  {
   "cell_type": "code",
   "execution_count": 50,
   "metadata": {},
   "outputs": [
    {
     "name": "stdout",
     "output_type": "stream",
     "text": [
      "Model: \"sequential_5\"\n",
      "_________________________________________________________________\n",
      " Layer (type)                Output Shape              Param #   \n",
      "=================================================================\n",
      " embedding_1 (Embedding)     (None, None, 50)          500050    \n",
      "                                                                 \n",
      " dropout_2 (Dropout)         (None, None, 50)          0         \n",
      "                                                                 \n",
      " global_average_pooling1d_1   (None, 50)               0         \n",
      " (GlobalAveragePooling1D)                                        \n",
      "                                                                 \n",
      " dropout_3 (Dropout)         (None, 50)                0         \n",
      "                                                                 \n",
      " dense_5 (Dense)             (None, 10)                510       \n",
      "                                                                 \n",
      "=================================================================\n",
      "Total params: 500,560\n",
      "Trainable params: 500,560\n",
      "Non-trainable params: 0\n",
      "_________________________________________________________________\n"
     ]
    }
   ],
   "source": [
    "embedding_dim = 50\n",
    "input_dim = max_features + 1\n",
    "\n",
    "basic_model = tf.keras.Sequential([\n",
    "    #vectorize_layer,\n",
    "    #layers.Input((1000)),\n",
    "    layers.Embedding(input_dim=input_dim ,output_dim=embedding_dim),\n",
    "    layers.Dropout(0.2),\n",
    "    layers.GlobalAveragePooling1D(),\n",
    "    layers.Dropout(0.2),\n",
    "    layers.Dense(10)\n",
    "  ])\n",
    "\n",
    "basic_model.summary()\n"
   ]
  },
  {
   "cell_type": "code",
   "execution_count": 51,
   "metadata": {},
   "outputs": [],
   "source": [
    "basic_model.compile(loss=losses.SparseCategoricalCrossentropy(True),\n",
    "             optimizer='adam',\n",
    "             metrics=['accuracy'])\n"
   ]
  },
  {
   "cell_type": "code",
   "execution_count": 52,
   "metadata": {},
   "outputs": [],
   "source": [
    "histories = {}"
   ]
  },
  {
   "cell_type": "code",
   "execution_count": 53,
   "metadata": {},
   "outputs": [
    {
     "name": "stdout",
     "output_type": "stream",
     "text": [
      "Epoch 1/30\n",
      "59/59 [==============================] - 5s 73ms/step - loss: 2.2390 - accuracy: 0.2040 - val_loss: 2.1677 - val_accuracy: 0.2191\n",
      "Epoch 2/30\n",
      "59/59 [==============================] - 6s 97ms/step - loss: 2.1135 - accuracy: 0.2335 - val_loss: 2.0699 - val_accuracy: 0.2202\n",
      "Epoch 3/30\n",
      "59/59 [==============================] - 5s 90ms/step - loss: 2.0515 - accuracy: 0.2362 - val_loss: 2.0443 - val_accuracy: 0.2202\n",
      "Epoch 4/30\n",
      "59/59 [==============================] - 5s 86ms/step - loss: 2.0347 - accuracy: 0.2316 - val_loss: 2.0359 - val_accuracy: 0.2202\n",
      "Epoch 5/30\n",
      "59/59 [==============================] - 5s 83ms/step - loss: 2.0229 - accuracy: 0.2426 - val_loss: 2.0292 - val_accuracy: 0.2288\n",
      "Epoch 6/30\n",
      "59/59 [==============================] - 5s 82ms/step - loss: 2.0195 - accuracy: 0.2437 - val_loss: 2.0223 - val_accuracy: 0.2331\n",
      "Epoch 7/30\n",
      "59/59 [==============================] - 5s 79ms/step - loss: 2.0097 - accuracy: 0.2517 - val_loss: 2.0152 - val_accuracy: 0.2438\n",
      "Epoch 8/30\n",
      "59/59 [==============================] - 5s 82ms/step - loss: 1.9995 - accuracy: 0.2595 - val_loss: 2.0076 - val_accuracy: 0.2492\n",
      "Epoch 9/30\n",
      "59/59 [==============================] - 5s 92ms/step - loss: 1.9962 - accuracy: 0.2571 - val_loss: 1.9996 - val_accuracy: 0.2513\n",
      "Epoch 10/30\n",
      "59/59 [==============================] - 5s 81ms/step - loss: 1.9857 - accuracy: 0.2678 - val_loss: 1.9909 - val_accuracy: 0.2567\n",
      "Epoch 11/30\n",
      "59/59 [==============================] - 5s 88ms/step - loss: 1.9771 - accuracy: 0.2708 - val_loss: 1.9815 - val_accuracy: 0.2610\n",
      "Epoch 12/30\n",
      "59/59 [==============================] - 5s 84ms/step - loss: 1.9639 - accuracy: 0.2810 - val_loss: 1.9715 - val_accuracy: 0.2621\n",
      "Epoch 13/30\n",
      "59/59 [==============================] - 6s 95ms/step - loss: 1.9556 - accuracy: 0.2848 - val_loss: 1.9606 - val_accuracy: 0.2675\n",
      "Epoch 14/30\n",
      "59/59 [==============================] - 6s 101ms/step - loss: 1.9404 - accuracy: 0.2915 - val_loss: 1.9488 - val_accuracy: 0.2707\n",
      "Epoch 15/30\n",
      "59/59 [==============================] - 6s 104ms/step - loss: 1.9286 - accuracy: 0.3025 - val_loss: 1.9365 - val_accuracy: 0.2825\n",
      "Epoch 16/30\n",
      "59/59 [==============================] - 6s 101ms/step - loss: 1.9141 - accuracy: 0.3151 - val_loss: 1.9231 - val_accuracy: 0.2889\n",
      "Epoch 17/30\n",
      "59/59 [==============================] - 5s 91ms/step - loss: 1.9020 - accuracy: 0.3256 - val_loss: 1.9089 - val_accuracy: 0.3040\n",
      "Epoch 18/30\n",
      "59/59 [==============================] - 6s 100ms/step - loss: 1.8845 - accuracy: 0.3339 - val_loss: 1.8936 - val_accuracy: 0.3169\n",
      "Epoch 19/30\n",
      "59/59 [==============================] - 7s 115ms/step - loss: 1.8672 - accuracy: 0.3545 - val_loss: 1.8777 - val_accuracy: 0.3244\n",
      "Epoch 20/30\n",
      "59/59 [==============================] - 6s 97ms/step - loss: 1.8524 - accuracy: 0.3596 - val_loss: 1.8609 - val_accuracy: 0.3448\n",
      "Epoch 21/30\n",
      "59/59 [==============================] - 7s 111ms/step - loss: 1.8341 - accuracy: 0.3739 - val_loss: 1.8434 - val_accuracy: 0.3620\n",
      "Epoch 22/30\n",
      "59/59 [==============================] - 6s 108ms/step - loss: 1.8138 - accuracy: 0.3926 - val_loss: 1.8252 - val_accuracy: 0.3824\n",
      "Epoch 23/30\n",
      "59/59 [==============================] - 5s 92ms/step - loss: 1.7910 - accuracy: 0.4066 - val_loss: 1.8065 - val_accuracy: 0.4006\n",
      "Epoch 24/30\n",
      "59/59 [==============================] - 5s 90ms/step - loss: 1.7728 - accuracy: 0.4171 - val_loss: 1.7874 - val_accuracy: 0.4157\n",
      "Epoch 25/30\n",
      "59/59 [==============================] - 7s 125ms/step - loss: 1.7545 - accuracy: 0.4348 - val_loss: 1.7674 - val_accuracy: 0.4232\n",
      "Epoch 26/30\n",
      "59/59 [==============================] - 7s 127ms/step - loss: 1.7278 - accuracy: 0.4450 - val_loss: 1.7473 - val_accuracy: 0.4350\n",
      "Epoch 27/30\n",
      "59/59 [==============================] - 6s 90ms/step - loss: 1.7079 - accuracy: 0.4603 - val_loss: 1.7270 - val_accuracy: 0.4597\n",
      "Epoch 28/30\n",
      "59/59 [==============================] - 5s 88ms/step - loss: 1.6885 - accuracy: 0.4648 - val_loss: 1.7064 - val_accuracy: 0.4662\n",
      "Epoch 29/30\n",
      "59/59 [==============================] - 5s 86ms/step - loss: 1.6637 - accuracy: 0.4817 - val_loss: 1.6864 - val_accuracy: 0.4780\n",
      "Epoch 30/30\n",
      "59/59 [==============================] - 5s 87ms/step - loss: 1.6442 - accuracy: 0.4890 - val_loss: 1.6661 - val_accuracy: 0.4876\n"
     ]
    }
   ],
   "source": [
    "epochs = 30\n",
    "\n",
    "histories[\"basic_model\"] = basic_model.fit(\n",
    "    train_ds,\n",
    "    validation_data=val_ds,\n",
    "    epochs=epochs, batch_size=batch_size,\n",
    "    callbacks=[\n",
    "        callbacks.TensorBoard(f\"{logs_dir}/basic_model\"),\n",
    "        callbacks.EarlyStopping(monitor=\"val_loss\", patience=10)\n",
    "    ],\n",
    ")  # batch_size=30\n"
   ]
  },
  {
   "cell_type": "code",
   "execution_count": 54,
   "metadata": {},
   "outputs": [
    {
     "name": "stdout",
     "output_type": "stream",
     "text": [
      "15/15 [==============================] - 0s 7ms/step - loss: 1.6661 - accuracy: 0.4876\n",
      "Loss:  1.666144847869873\n",
      "Accuracy:  0.48764768242836\n"
     ]
    }
   ],
   "source": [
    "loss, accuracy = basic_model.evaluate(val_ds)\n",
    "\n",
    "print(\"Loss: \", loss)\n",
    "print(\"Accuracy: \", accuracy)\n"
   ]
  },
  {
   "cell_type": "code",
   "execution_count": 55,
   "metadata": {},
   "outputs": [
    {
     "data": {
      "image/png": "[encoded data removed]",
      "text/plain": [
       "<Figure size 640x480 with 1 Axes>"
      ]
     },
     "metadata": {},
     "output_type": "display_data"
    }
   ],
   "source": [
    "plotter = tfds.plots.HistoryPlotter(\n",
    "    metric='accuracy', smoothing_std=10)\n",
    "plotter.plot(histories)\n"
   ]
  },
  {
   "cell_type": "code",
   "execution_count": 56,
   "metadata": {},
   "outputs": [
    {
     "data": {
      "image/png": "[encoded data removed]",
      "text/plain": [
       "<Figure size 640x480 with 1 Axes>"
      ]
     },
     "metadata": {},
     "output_type": "display_data"
    }
   ],
   "source": [
    "plotter = tfds.plots.HistoryPlotter(\n",
    "    metric='loss', smoothing_std=10)\n",
    "plotter.plot(histories)\n"
   ]
  },
  {
   "cell_type": "code",
   "execution_count": 57,
   "metadata": {},
   "outputs": [
    {
     "name": "stdout",
     "output_type": "stream",
     "text": [
      "15/15 [==============================] - 1s 13ms/step - loss: 1.6122 - accuracy: 0.5134\n",
      "0.5134264230728149\n"
     ]
    }
   ],
   "source": [
    "export_model = tf.keras.Sequential([\n",
    "    vectorize_layer,\n",
    "    basic_model,\n",
    "    layers.Activation('softmax')\n",
    "])\n",
    "\n",
    "export_model.compile(\n",
    "    loss=losses.SparseCategoricalCrossentropy(), optimizer=\"adam\", metrics=['accuracy']\n",
    ")\n",
    "\n",
    "\n",
    "loss, accuracy = export_model.evaluate(raw_val_ds.batch(batch_size))\n",
    "print(accuracy)\n"
   ]
  },
  {
   "cell_type": "markdown",
   "metadata": {},
   "source": [
    "# Transfert Learning"
   ]
  },
  {
   "cell_type": "code",
   "execution_count": 40,
   "metadata": {},
   "outputs": [],
   "source": [
    "embedding = \"https://tfhub.dev/google/nnlm-en-dim50/2\"\n",
    "hub_layer = hub.KerasLayer(embedding,True, input_shape=[], dtype=tf.string)"
   ]
  },
  {
   "cell_type": "code",
   "execution_count": 41,
   "metadata": {},
   "outputs": [],
   "source": [
    "hub_model = keras.Sequential()\n",
    "hub_model.add(hub_layer)\n",
    "hub_model.add(layers.Dense(16, activation=\"relu\"))\n",
    "hub_model.add(layers.Dense(10))"
   ]
  },
  {
   "cell_type": "code",
   "execution_count": 42,
   "metadata": {},
   "outputs": [],
   "source": [
    "hub_model.compile(loss=losses.SparseCategoricalCrossentropy(from_logits=True),\n",
    "              optimizer='adam',\n",
    "              metrics=['accuracy'])\n"
   ]
  },
  {
   "cell_type": "code",
   "execution_count": 59,
   "metadata": {},
   "outputs": [
    {
     "name": "stdout",
     "output_type": "stream",
     "text": [
      "Epoch 1/30\n",
      "59/59 [==============================] - 33s 567ms/step - loss: 0.0534 - accuracy: 0.9710 - val_loss: 0.0426 - val_accuracy: 0.9796\n",
      "Epoch 2/30\n",
      "59/59 [==============================] - 38s 641ms/step - loss: 0.0509 - accuracy: 0.9737 - val_loss: 0.0321 - val_accuracy: 0.9828\n",
      "Epoch 3/30\n",
      "59/59 [==============================] - 39s 661ms/step - loss: 0.0501 - accuracy: 0.9713 - val_loss: 0.0321 - val_accuracy: 0.9860\n",
      "Epoch 4/30\n",
      "59/59 [==============================] - 35s 592ms/step - loss: 0.0453 - accuracy: 0.9748 - val_loss: 0.0418 - val_accuracy: 0.9796\n",
      "Epoch 5/30\n",
      "59/59 [==============================] - 37s 629ms/step - loss: 0.0475 - accuracy: 0.9734 - val_loss: 0.0324 - val_accuracy: 0.9839\n",
      "Epoch 6/30\n",
      "59/59 [==============================] - 36s 603ms/step - loss: 0.0512 - accuracy: 0.9710 - val_loss: 0.0347 - val_accuracy: 0.9828\n",
      "Epoch 7/30\n",
      "59/59 [==============================] - 35s 588ms/step - loss: 0.0501 - accuracy: 0.9716 - val_loss: 0.0425 - val_accuracy: 0.9742\n"
     ]
    }
   ],
   "source": [
    "epochs = 30\n",
    "histories[\"hub_model\"] = hub_model.fit(\n",
    "    raw_train_ds.batch(batch_size),\n",
    "    validation_data=raw_val_ds.batch(batch_size),\n",
    "    epochs=epochs, batch_size=batch_size,\n",
    "    callbacks=[\n",
    "        callbacks.TensorBoard(f\"{logs_dir}/hub_model\"),\n",
    "        callbacks.EarlyStopping(monitor=\"val_loss\", patience=5),\n",
    "        callbacks.\n",
    "    ]\n",
    ")  \n"
   ]
  },
  {
   "cell_type": "code",
   "execution_count": 65,
   "metadata": {},
   "outputs": [
    {
     "name": "stdout",
     "output_type": "stream",
     "text": [
      "15/15 [==============================] - 2s 87ms/step - loss: 0.0412 - accuracy: 0.9731\n",
      "0.9731471538543701\n"
     ]
    }
   ],
   "source": [
    "loss, accuracy = hub_model.evaluate(raw_val_ds.batch(batch_size))\n",
    "print(accuracy)\n"
   ]
  },
  {
   "cell_type": "code",
   "execution_count": 62,
   "metadata": {},
   "outputs": [
    {
     "data": {
      "image/png": "[encoded data removed]",
      "text/plain": [
       "<Figure size 640x480 with 1 Axes>"
      ]
     },
     "metadata": {},
     "output_type": "display_data"
    }
   ],
   "source": [
    "plotter = tfds.plots.HistoryPlotter(\n",
    "    metric='accuracy', smoothing_std=10)\n",
    "plotter.plot(histories)\n"
   ]
  },
  {
   "cell_type": "code",
   "execution_count": 63,
   "metadata": {},
   "outputs": [
    {
     "data": {
      "image/png": "[encoded data removed]",
      "text/plain": [
       "<Figure size 640x480 with 1 Axes>"
      ]
     },
     "metadata": {},
     "output_type": "display_data"
    }
   ],
   "source": [
    "plotter = tfds.plots.HistoryPlotter(\n",
    "    metric='loss', smoothing_std=10)\n",
    "plotter.plot(histories)\n"
   ]
  },
  {
   "cell_type": "markdown",
   "metadata": {},
   "source": [
    "# Prediction"
   ]
  },
  {
   "cell_type": "code",
   "execution_count": 47,
   "metadata": {},
   "outputs": [],
   "source": [
    "df_shuffled = shuffle(df)"
   ]
  },
  {
   "cell_type": "code",
   "execution_count": 48,
   "metadata": {},
   "outputs": [
    {
     "name": "stdout",
     "output_type": "stream",
     "text": [
      "1/1 [==============================] - 0s 351ms/step\n"
     ]
    },
    {
     "data": {
      "text/plain": [
       "array([[-1.4062402e-01, -1.8090321e+00, -1.4287335e+00,  1.2988503e+00,\n",
       "        -5.4728327e+00, -8.2666731e-01, -7.5867171e+00, -4.5780811e+00,\n",
       "         9.2286863e+00, -5.0588150e+00],\n",
       "       [-2.9451632e+00, -4.1915151e-01,  4.9320436e+00, -3.5887332e+00,\n",
       "        -3.5355549e+00, -3.6465497e+00, -1.4200643e-02, -6.4623461e+00,\n",
       "        -6.7046094e-01, -1.8800799e+00],\n",
       "       [-6.2369232e+00,  9.8939848e+00,  1.8017881e+00, -2.5363095e+00,\n",
       "        -1.6177519e+01, -4.4030361e+00, -9.2623331e-02, -1.5821539e+01,\n",
       "        -1.8948178e+00, -1.1210862e+01],\n",
       "       [-6.3478765e+00, -7.4913315e-02, -3.1400239e+00, -2.7952425e+00,\n",
       "        -2.9093218e+00,  5.5374751e+00, -5.9006011e-01,  2.1534875e-01,\n",
       "         3.5473317e-01, -2.0712354e+00]], dtype=float32)"
      ]
     },
     "execution_count": 48,
     "metadata": {},
     "output_type": "execute_result"
    }
   ],
   "source": [
    "examples = df_shuffled.summary_cleaned.iloc[:4].values\n",
    "\n",
    "results = hub_model.predict(examples)\n",
    "results\n"
   ]
  },
  {
   "cell_type": "code",
   "execution_count": 49,
   "metadata": {},
   "outputs": [
    {
     "name": "stdout",
     "output_type": "stream",
     "text": [
      "Ground trust :  thriller\n",
      "Prediction :  ['thriller']\n",
      "Ground trust :  history\n",
      "Prediction :  ['history']\n",
      "Ground trust :  fantasy\n",
      "Prediction :  ['fantasy']\n",
      "Ground trust :  romance\n",
      "Prediction :  ['romance']\n"
     ]
    }
   ],
   "source": [
    "for i, res in enumerate(results):\n",
    "    print(\"Ground trust : \",df_shuffled.genre.iloc[i])\n",
    "    print(\"Prediction : \",encoder.inverse_transform([tf.argmax(res)]))\n"
   ]
  },
  {
   "cell_type": "code",
   "execution_count": null,
   "metadata": {},
   "outputs": [],
   "source": []
  }
 ],
 "metadata": {
  "kernelspec": {
   "display_name": "Python 3.10.6 ('data_science')",
   "language": "python",
   "name": "python3"
  },
  "language_info": {
   "codemirror_mode": {
    "name": "ipython",
    "version": 3
   },
   "file_extension": ".py",
   "mimetype": "text/x-python",
   "name": "python",
   "nbconvert_exporter": "python",
   "pygments_lexer": "ipython3",
   "version": "3.10.6"
  },
  "orig_nbformat": 4,
  "vscode": {
   "interpreter": {
    "hash": "6097a79d3eb52ab93de3de5640594d03bad433e596678d826ebe8873d1a6d8d3"
   }
  }
 },
 "nbformat": 4,
 "nbformat_minor": 2
}
